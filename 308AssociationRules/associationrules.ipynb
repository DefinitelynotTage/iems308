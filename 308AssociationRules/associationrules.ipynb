{
 "cells": [
  {
   "cell_type": "markdown",
   "metadata": {},
   "source": [
    "# IEMS308 HW2 Association Rules\n",
    "\n",
    "Author: Taige Hong"
   ]
  },
  {
   "cell_type": "code",
   "execution_count": 366,
   "metadata": {},
   "outputs": [],
   "source": [
    "import numpy as np\n",
    "import pandas as pd\n",
    "import matplotlib.pyplot as plt\n",
    "import csv\n",
    "from apyori import apriori\n",
    "\n",
    "stri = pd.read_csv(\"Dillards POS/strinfo.csv\", header = None)"
   ]
  },
  {
   "cell_type": "markdown",
   "metadata": {},
   "source": [
    "I am using the data from all Dillard's POS data from three locations in Illinois to analyze the association rule. This is based on the assumption that people in the same state share similar purchasing patterns. This process is easy to duplicate with other states as input."
   ]
  },
  {
   "cell_type": "code",
   "execution_count": 76,
   "metadata": {
    "scrolled": true
   },
   "outputs": [
    {
     "data": {
      "text/html": [
       "<div>\n",
       "<style scoped>\n",
       "    .dataframe tbody tr th:only-of-type {\n",
       "        vertical-align: middle;\n",
       "    }\n",
       "\n",
       "    .dataframe tbody tr th {\n",
       "        vertical-align: top;\n",
       "    }\n",
       "\n",
       "    .dataframe thead th {\n",
       "        text-align: right;\n",
       "    }\n",
       "</style>\n",
       "<table border=\"1\" class=\"dataframe\">\n",
       "  <thead>\n",
       "    <tr style=\"text-align: right;\">\n",
       "      <th></th>\n",
       "      <th>store</th>\n",
       "      <th>name</th>\n",
       "      <th>state</th>\n",
       "      <th>zip</th>\n",
       "      <th>extra</th>\n",
       "    </tr>\n",
       "  </thead>\n",
       "  <tbody>\n",
       "    <tr>\n",
       "      <th>42</th>\n",
       "      <td>603</td>\n",
       "      <td>FAIRVIEW HEIGHTS</td>\n",
       "      <td>IL</td>\n",
       "      <td>62208</td>\n",
       "      <td>1</td>\n",
       "    </tr>\n",
       "    <tr>\n",
       "      <th>64</th>\n",
       "      <td>1003</td>\n",
       "      <td>MARION</td>\n",
       "      <td>IL</td>\n",
       "      <td>62959</td>\n",
       "      <td>1</td>\n",
       "    </tr>\n",
       "    <tr>\n",
       "      <th>251</th>\n",
       "      <td>4903</td>\n",
       "      <td>MOLINE</td>\n",
       "      <td>IL</td>\n",
       "      <td>61265</td>\n",
       "      <td>1</td>\n",
       "    </tr>\n",
       "  </tbody>\n",
       "</table>\n",
       "</div>"
      ],
      "text/plain": [
       "     store                  name state    zip  extra\n",
       "42     603  FAIRVIEW HEIGHTS        IL  62208      1\n",
       "64    1003  MARION                  IL  62959      1\n",
       "251   4903  MOLINE                  IL  61265      1"
      ]
     },
     "execution_count": 76,
     "metadata": {},
     "output_type": "execute_result"
    }
   ],
   "source": [
    "stri[stri.state == \"IL\"]"
   ]
  },
  {
   "cell_type": "code",
   "execution_count": 193,
   "metadata": {},
   "outputs": [],
   "source": [
    "stri.columns = ['store', 'name', 'state', 'zip', 'extra']"
   ]
  },
  {
   "cell_type": "code",
   "execution_count": 195,
   "metadata": {},
   "outputs": [],
   "source": [
    "trns = pd.read_csv(\"Dillards POS/trnsact.csv\", header = None)\n",
    "trns.columns = ['sku', 'store', 'register', 'trannum', 'seq', 'saledate', 'stype', 'quantity', 'retail', 'orgprice', 'amt', 'interid' ,'mic', 'extra']\n",
    "trns = trns[trns.store.isin([603,1003,4903])][[\"sku\", \"store\", \"register\", \"trannum\", \"saledate\", \"stype\", \"quantity\", \"orgprice\"]]\n",
    "trns = trns[trns.stype == \"P\"]"
   ]
  },
  {
   "cell_type": "code",
   "execution_count": 196,
   "metadata": {},
   "outputs": [
    {
     "data": {
      "text/html": [
       "<div>\n",
       "<style scoped>\n",
       "    .dataframe tbody tr th:only-of-type {\n",
       "        vertical-align: middle;\n",
       "    }\n",
       "\n",
       "    .dataframe tbody tr th {\n",
       "        vertical-align: top;\n",
       "    }\n",
       "\n",
       "    .dataframe thead th {\n",
       "        text-align: right;\n",
       "    }\n",
       "</style>\n",
       "<table border=\"1\" class=\"dataframe\">\n",
       "  <thead>\n",
       "    <tr style=\"text-align: right;\">\n",
       "      <th></th>\n",
       "      <th>sku</th>\n",
       "      <th>store</th>\n",
       "      <th>register</th>\n",
       "      <th>trannum</th>\n",
       "      <th>saledate</th>\n",
       "      <th>stype</th>\n",
       "      <th>quantity</th>\n",
       "      <th>orgprice</th>\n",
       "    </tr>\n",
       "  </thead>\n",
       "  <tbody>\n",
       "    <tr>\n",
       "      <th>327</th>\n",
       "      <td>164</td>\n",
       "      <td>603</td>\n",
       "      <td>330</td>\n",
       "      <td>3900</td>\n",
       "      <td>2005-08-13</td>\n",
       "      <td>P</td>\n",
       "      <td>1</td>\n",
       "      <td>20.00</td>\n",
       "    </tr>\n",
       "    <tr>\n",
       "      <th>409</th>\n",
       "      <td>164</td>\n",
       "      <td>4903</td>\n",
       "      <td>480</td>\n",
       "      <td>1300</td>\n",
       "      <td>2005-08-05</td>\n",
       "      <td>P</td>\n",
       "      <td>1</td>\n",
       "      <td>20.00</td>\n",
       "    </tr>\n",
       "    <tr>\n",
       "      <th>686</th>\n",
       "      <td>268</td>\n",
       "      <td>603</td>\n",
       "      <td>60</td>\n",
       "      <td>1400</td>\n",
       "      <td>2005-02-21</td>\n",
       "      <td>P</td>\n",
       "      <td>1</td>\n",
       "      <td>24.12</td>\n",
       "    </tr>\n",
       "    <tr>\n",
       "      <th>694</th>\n",
       "      <td>268</td>\n",
       "      <td>1003</td>\n",
       "      <td>13</td>\n",
       "      <td>94600</td>\n",
       "      <td>2004-11-04</td>\n",
       "      <td>P</td>\n",
       "      <td>1</td>\n",
       "      <td>36.00</td>\n",
       "    </tr>\n",
       "    <tr>\n",
       "      <th>1798</th>\n",
       "      <td>450</td>\n",
       "      <td>603</td>\n",
       "      <td>580</td>\n",
       "      <td>1000</td>\n",
       "      <td>2005-08-01</td>\n",
       "      <td>P</td>\n",
       "      <td>1</td>\n",
       "      <td>3.00</td>\n",
       "    </tr>\n",
       "    <tr>\n",
       "      <th>1799</th>\n",
       "      <td>450</td>\n",
       "      <td>603</td>\n",
       "      <td>580</td>\n",
       "      <td>1800</td>\n",
       "      <td>2005-08-03</td>\n",
       "      <td>P</td>\n",
       "      <td>1</td>\n",
       "      <td>3.00</td>\n",
       "    </tr>\n",
       "    <tr>\n",
       "      <th>1837</th>\n",
       "      <td>450</td>\n",
       "      <td>1003</td>\n",
       "      <td>190</td>\n",
       "      <td>2200</td>\n",
       "      <td>2005-06-16</td>\n",
       "      <td>P</td>\n",
       "      <td>1</td>\n",
       "      <td>6.00</td>\n",
       "    </tr>\n",
       "    <tr>\n",
       "      <th>1838</th>\n",
       "      <td>450</td>\n",
       "      <td>1003</td>\n",
       "      <td>660</td>\n",
       "      <td>2800</td>\n",
       "      <td>2005-07-13</td>\n",
       "      <td>P</td>\n",
       "      <td>1</td>\n",
       "      <td>3.99</td>\n",
       "    </tr>\n",
       "    <tr>\n",
       "      <th>1839</th>\n",
       "      <td>450</td>\n",
       "      <td>1003</td>\n",
       "      <td>700</td>\n",
       "      <td>400</td>\n",
       "      <td>2005-08-25</td>\n",
       "      <td>P</td>\n",
       "      <td>1</td>\n",
       "      <td>2.10</td>\n",
       "    </tr>\n",
       "    <tr>\n",
       "      <th>2337</th>\n",
       "      <td>450</td>\n",
       "      <td>4903</td>\n",
       "      <td>520</td>\n",
       "      <td>4000</td>\n",
       "      <td>2005-07-31</td>\n",
       "      <td>P</td>\n",
       "      <td>1</td>\n",
       "      <td>3.00</td>\n",
       "    </tr>\n",
       "  </tbody>\n",
       "</table>\n",
       "</div>"
      ],
      "text/plain": [
       "      sku  store  register  trannum    saledate stype  quantity  orgprice\n",
       "327   164    603       330     3900  2005-08-13     P         1     20.00\n",
       "409   164   4903       480     1300  2005-08-05     P         1     20.00\n",
       "686   268    603        60     1400  2005-02-21     P         1     24.12\n",
       "694   268   1003        13    94600  2004-11-04     P         1     36.00\n",
       "1798  450    603       580     1000  2005-08-01     P         1      3.00\n",
       "1799  450    603       580     1800  2005-08-03     P         1      3.00\n",
       "1837  450   1003       190     2200  2005-06-16     P         1      6.00\n",
       "1838  450   1003       660     2800  2005-07-13     P         1      3.99\n",
       "1839  450   1003       700      400  2005-08-25     P         1      2.10\n",
       "2337  450   4903       520     4000  2005-07-31     P         1      3.00"
      ]
     },
     "execution_count": 196,
     "metadata": {},
     "output_type": "execute_result"
    }
   ],
   "source": [
    "trns.head(10)"
   ]
  },
  {
   "cell_type": "markdown",
   "metadata": {},
   "source": [
    "I create a new column called entry to identify which SKUs are in the same basket. In fact, this column serves as the ID of the basket."
   ]
  },
  {
   "cell_type": "code",
   "execution_count": 197,
   "metadata": {},
   "outputs": [],
   "source": [
    "trns[\"entry\"] = trns[\"store\"].astype(str) + trns[\"register\"].astype(str) + trns[\"trannum\"].astype(str) + trns[\"saledate\"].astype(str)"
   ]
  },
  {
   "cell_type": "markdown",
   "metadata": {},
   "source": [
    "There are 371,353 distinct baskets."
   ]
  },
  {
   "cell_type": "code",
   "execution_count": 198,
   "metadata": {},
   "outputs": [
    {
     "data": {
      "text/plain": [
       "371353"
      ]
     },
     "execution_count": 198,
     "metadata": {},
     "output_type": "execute_result"
    }
   ],
   "source": [
    "len(trns[\"entry\"].value_counts())"
   ]
  },
  {
   "cell_type": "markdown",
   "metadata": {},
   "source": [
    "In this case, I'm setting each individual's minimum support to be 0.01%, which requires a single SKU to appear in more than 37 rows to be considered."
   ]
  },
  {
   "cell_type": "code",
   "execution_count": 205,
   "metadata": {},
   "outputs": [],
   "source": [
    "skuoccurence = trns.sku.value_counts()\n",
    "trns1 = trns[trns[\"sku\"].isin(np.array(skuoccurence[skuoccurence > 37].index))]"
   ]
  },
  {
   "cell_type": "code",
   "execution_count": 206,
   "metadata": {},
   "outputs": [
    {
     "data": {
      "text/html": [
       "<div>\n",
       "<style scoped>\n",
       "    .dataframe tbody tr th:only-of-type {\n",
       "        vertical-align: middle;\n",
       "    }\n",
       "\n",
       "    .dataframe tbody tr th {\n",
       "        vertical-align: top;\n",
       "    }\n",
       "\n",
       "    .dataframe thead th {\n",
       "        text-align: right;\n",
       "    }\n",
       "</style>\n",
       "<table border=\"1\" class=\"dataframe\">\n",
       "  <thead>\n",
       "    <tr style=\"text-align: right;\">\n",
       "      <th></th>\n",
       "      <th>sku</th>\n",
       "      <th>store</th>\n",
       "      <th>register</th>\n",
       "      <th>trannum</th>\n",
       "      <th>saledate</th>\n",
       "      <th>stype</th>\n",
       "      <th>quantity</th>\n",
       "      <th>orgprice</th>\n",
       "      <th>entry</th>\n",
       "    </tr>\n",
       "  </thead>\n",
       "  <tbody>\n",
       "    <tr>\n",
       "      <th>66138</th>\n",
       "      <td>7915</td>\n",
       "      <td>603</td>\n",
       "      <td>80</td>\n",
       "      <td>800</td>\n",
       "      <td>2005-03-11</td>\n",
       "      <td>P</td>\n",
       "      <td>1</td>\n",
       "      <td>19.5</td>\n",
       "      <td>603808002005-03-11</td>\n",
       "    </tr>\n",
       "    <tr>\n",
       "      <th>66139</th>\n",
       "      <td>7915</td>\n",
       "      <td>603</td>\n",
       "      <td>80</td>\n",
       "      <td>800</td>\n",
       "      <td>2005-03-13</td>\n",
       "      <td>P</td>\n",
       "      <td>1</td>\n",
       "      <td>19.5</td>\n",
       "      <td>603808002005-03-13</td>\n",
       "    </tr>\n",
       "    <tr>\n",
       "      <th>66140</th>\n",
       "      <td>7915</td>\n",
       "      <td>603</td>\n",
       "      <td>80</td>\n",
       "      <td>2600</td>\n",
       "      <td>2005-02-27</td>\n",
       "      <td>P</td>\n",
       "      <td>1</td>\n",
       "      <td>19.5</td>\n",
       "      <td>6038026002005-02-27</td>\n",
       "    </tr>\n",
       "    <tr>\n",
       "      <th>66141</th>\n",
       "      <td>7915</td>\n",
       "      <td>603</td>\n",
       "      <td>190</td>\n",
       "      <td>700</td>\n",
       "      <td>2005-07-02</td>\n",
       "      <td>P</td>\n",
       "      <td>1</td>\n",
       "      <td>19.5</td>\n",
       "      <td>6031907002005-07-02</td>\n",
       "    </tr>\n",
       "    <tr>\n",
       "      <th>66142</th>\n",
       "      <td>7915</td>\n",
       "      <td>603</td>\n",
       "      <td>240</td>\n",
       "      <td>200</td>\n",
       "      <td>2005-01-22</td>\n",
       "      <td>P</td>\n",
       "      <td>1</td>\n",
       "      <td>19.5</td>\n",
       "      <td>6032402002005-01-22</td>\n",
       "    </tr>\n",
       "    <tr>\n",
       "      <th>66143</th>\n",
       "      <td>7915</td>\n",
       "      <td>603</td>\n",
       "      <td>240</td>\n",
       "      <td>500</td>\n",
       "      <td>2005-05-17</td>\n",
       "      <td>P</td>\n",
       "      <td>1</td>\n",
       "      <td>19.5</td>\n",
       "      <td>6032405002005-05-17</td>\n",
       "    </tr>\n",
       "    <tr>\n",
       "      <th>66144</th>\n",
       "      <td>7915</td>\n",
       "      <td>603</td>\n",
       "      <td>240</td>\n",
       "      <td>700</td>\n",
       "      <td>2004-11-07</td>\n",
       "      <td>P</td>\n",
       "      <td>1</td>\n",
       "      <td>19.5</td>\n",
       "      <td>6032407002004-11-07</td>\n",
       "    </tr>\n",
       "    <tr>\n",
       "      <th>66145</th>\n",
       "      <td>7915</td>\n",
       "      <td>603</td>\n",
       "      <td>240</td>\n",
       "      <td>900</td>\n",
       "      <td>2004-12-04</td>\n",
       "      <td>P</td>\n",
       "      <td>1</td>\n",
       "      <td>19.5</td>\n",
       "      <td>6032409002004-12-04</td>\n",
       "    </tr>\n",
       "    <tr>\n",
       "      <th>66147</th>\n",
       "      <td>7915</td>\n",
       "      <td>603</td>\n",
       "      <td>240</td>\n",
       "      <td>1100</td>\n",
       "      <td>2005-07-06</td>\n",
       "      <td>P</td>\n",
       "      <td>1</td>\n",
       "      <td>19.5</td>\n",
       "      <td>60324011002005-07-06</td>\n",
       "    </tr>\n",
       "    <tr>\n",
       "      <th>66148</th>\n",
       "      <td>7915</td>\n",
       "      <td>603</td>\n",
       "      <td>240</td>\n",
       "      <td>1100</td>\n",
       "      <td>2005-08-16</td>\n",
       "      <td>P</td>\n",
       "      <td>1</td>\n",
       "      <td>19.5</td>\n",
       "      <td>60324011002005-08-16</td>\n",
       "    </tr>\n",
       "  </tbody>\n",
       "</table>\n",
       "</div>"
      ],
      "text/plain": [
       "        sku  store  register  trannum    saledate stype  quantity  orgprice  \\\n",
       "66138  7915    603        80      800  2005-03-11     P         1      19.5   \n",
       "66139  7915    603        80      800  2005-03-13     P         1      19.5   \n",
       "66140  7915    603        80     2600  2005-02-27     P         1      19.5   \n",
       "66141  7915    603       190      700  2005-07-02     P         1      19.5   \n",
       "66142  7915    603       240      200  2005-01-22     P         1      19.5   \n",
       "66143  7915    603       240      500  2005-05-17     P         1      19.5   \n",
       "66144  7915    603       240      700  2004-11-07     P         1      19.5   \n",
       "66145  7915    603       240      900  2004-12-04     P         1      19.5   \n",
       "66147  7915    603       240     1100  2005-07-06     P         1      19.5   \n",
       "66148  7915    603       240     1100  2005-08-16     P         1      19.5   \n",
       "\n",
       "                      entry  \n",
       "66138    603808002005-03-11  \n",
       "66139    603808002005-03-13  \n",
       "66140   6038026002005-02-27  \n",
       "66141   6031907002005-07-02  \n",
       "66142   6032402002005-01-22  \n",
       "66143   6032405002005-05-17  \n",
       "66144   6032407002004-11-07  \n",
       "66145   6032409002004-12-04  \n",
       "66147  60324011002005-07-06  \n",
       "66148  60324011002005-08-16  "
      ]
     },
     "execution_count": 206,
     "metadata": {},
     "output_type": "execute_result"
    }
   ],
   "source": [
    "trns1.head(10)"
   ]
  },
  {
   "cell_type": "markdown",
   "metadata": {},
   "source": [
    "62511 baskets remain."
   ]
  },
  {
   "cell_type": "code",
   "execution_count": 392,
   "metadata": {},
   "outputs": [
    {
     "data": {
      "text/plain": [
       "62511"
      ]
     },
     "execution_count": 392,
     "metadata": {},
     "output_type": "execute_result"
    }
   ],
   "source": [
    "len(trns1[\"entry\"].value_counts())"
   ]
  },
  {
   "cell_type": "code",
   "execution_count": 219,
   "metadata": {},
   "outputs": [],
   "source": [
    "entrylist = trns1.entry.unique()"
   ]
  },
  {
   "cell_type": "code",
   "execution_count": 230,
   "metadata": {},
   "outputs": [],
   "source": [
    "records = []\n",
    "for i in range(len(entrylist)):\n",
    "    trns2 = trns1[trns1[\"entry\"] == entrylist[i]]\n",
    "    records.append(list(trns2.sku.unique()))"
   ]
  },
  {
   "cell_type": "markdown",
   "metadata": {},
   "source": [
    "I'm using the apriori function from apyori package to calculate the support, confidence and lift. The parameters are set by trials and errors method."
   ]
  },
  {
   "cell_type": "code",
   "execution_count": 350,
   "metadata": {},
   "outputs": [],
   "source": [
    "ar = apriori(records, min_support = 0.0002, min_confidence = 0.02, min_lift = 2, min_length = 2)"
   ]
  },
  {
   "cell_type": "code",
   "execution_count": 351,
   "metadata": {},
   "outputs": [],
   "source": [
    "result = list(ar)"
   ]
  },
  {
   "cell_type": "markdown",
   "metadata": {},
   "source": [
    "243 rules are generated. However, our objective is to find 100 SKUs to move, so we need to eliminate the duplicate candidates and find the best 100."
   ]
  },
  {
   "cell_type": "code",
   "execution_count": 394,
   "metadata": {},
   "outputs": [
    {
     "data": {
      "text/plain": [
       "243"
      ]
     },
     "execution_count": 394,
     "metadata": {},
     "output_type": "execute_result"
    }
   ],
   "source": [
    "len(result)"
   ]
  },
  {
   "cell_type": "raw",
   "metadata": {},
   "source": [
    "cols = ['analysis', 'association', \"support\", 'confidence', 'lift']\n",
    "output = pd.DataFrame(columns = cols)\n",
    "for items in result:\n",
    "    pair = items[0]\n",
    "    item = [x for x in pair]\n",
    "    x1 = item[0]\n",
    "    x2 = item[1]\n",
    "    x3 = str(np.around(items[1]*100, decimals = 2)) + '%'\n",
    "    x4 = str(np.around(items[2][0][2]*100, decimals = 2)) + '%'\n",
    "    x5 = items[2][0][3]\n",
    "    output.loc[len(output)] = [x1,x2,x3,x4,x5]"
   ]
  },
  {
   "cell_type": "code",
   "execution_count": 354,
   "metadata": {},
   "outputs": [],
   "source": [
    "top100 = output.sort_values(\"lift\", ascending = False).drop_duplicates(subset = \"analysis\").head(100)"
   ]
  },
  {
   "cell_type": "code",
   "execution_count": 364,
   "metadata": {},
   "outputs": [],
   "source": [
    "top100['result'] = top100['analysis'].astype(str) + \"=>\" + top100['association'].astype(str)"
   ]
  },
  {
   "cell_type": "markdown",
   "metadata": {},
   "source": [
    "The result is stored in the 'result.csv' file in the same folder."
   ]
  },
  {
   "cell_type": "code",
   "execution_count": 389,
   "metadata": {},
   "outputs": [],
   "source": [
    "with open('result.csv', 'w'):\n",
    "    writer = csv.writer(open('result.csv', 'w'))\n",
    "    writer.writerow(tuple(top100['result']))"
   ]
  },
  {
   "cell_type": "markdown",
   "metadata": {},
   "source": [
    "The support here is relatively low because ~70% of the baskets contain only one item. This fact is inflating the lift and deflating the support."
   ]
  },
  {
   "cell_type": "code",
   "execution_count": 400,
   "metadata": {},
   "outputs": [
    {
     "data": {
      "text/plain": [
       "0.6956695621570603"
      ]
     },
     "execution_count": 400,
     "metadata": {},
     "output_type": "execute_result"
    }
   ],
   "source": [
    "1 - sum(len(records[i]) > 1 for i in range(len(records)))/len(records)"
   ]
  },
  {
   "cell_type": "code",
   "execution_count": 427,
   "metadata": {},
   "outputs": [],
   "source": [
    "sku = pd.read_csv(\"Dillards POS/skuinfo.csv\", header = None, usecols = [0,1,9], error_bad_lines = False)\n",
    "dept = pd.read_csv(\"Dillards POS/deptinfo.csv\", header = None)"
   ]
  },
  {
   "cell_type": "markdown",
   "metadata": {},
   "source": [
    "Result mapped to their brand names:"
   ]
  },
  {
   "cell_type": "code",
   "execution_count": 430,
   "metadata": {},
   "outputs": [
    {
     "data": {
      "text/plain": [
       "NOBLE CH     15\n",
       "SUMMER S     12\n",
       "NOBLE EX     12\n",
       "GREAT AM     10\n",
       "MILCO IN      7\n",
       "CLINIQUE      6\n",
       "CABERNET      5\n",
       "CROSCILL      5\n",
       "WESTPOIN      4\n",
       "HUE/KAYS      4\n",
       "HUE           4\n",
       "NUTMEG M      3\n",
       "NOBILITY      2\n",
       "CAPELLI       2\n",
       "LANCOME       2\n",
       "ROYCE HO      2\n",
       "CHRISTY       2\n",
       "MAIN ING      1\n",
       "SATURDAY      1\n",
       "SAN FRAN      1\n",
       "Name: 9, dtype: int64"
      ]
     },
     "execution_count": 430,
     "metadata": {},
     "output_type": "execute_result"
    }
   ],
   "source": [
    "sku[sku[0].isin(list(top100.analysis))][9].value_counts()"
   ]
  },
  {
   "cell_type": "code",
   "execution_count": 431,
   "metadata": {},
   "outputs": [
    {
     "data": {
      "text/plain": [
       "NOBLE EX     12\n",
       "NOBLE CH     11\n",
       "SUMMER S     10\n",
       "GREAT AM      8\n",
       "MILCO IN      7\n",
       "CLINIQUE      6\n",
       "CABERNET      5\n",
       "CROSCILL      4\n",
       "HUE           4\n",
       "HUE/KAYS      3\n",
       "NUTMEG M      2\n",
       "WESTPOIN      2\n",
       "CAPELLI       2\n",
       "LANCOME       2\n",
       "ROYCE HO      2\n",
       "NOBILITY      1\n",
       "MAIN ING      1\n",
       "SATURDAY      1\n",
       "CHRISTY       1\n",
       "SAN FRAN      1\n",
       "Name: 9, dtype: int64"
      ]
     },
     "execution_count": 431,
     "metadata": {},
     "output_type": "execute_result"
    }
   ],
   "source": [
    "sku[sku[0].isin(list(top100.association))][9].value_counts()"
   ]
  },
  {
   "cell_type": "code",
   "execution_count": null,
   "metadata": {},
   "outputs": [],
   "source": []
  }
 ],
 "metadata": {
  "kernelspec": {
   "display_name": "Python 3",
   "language": "python",
   "name": "python3"
  },
  "language_info": {
   "codemirror_mode": {
    "name": "ipython",
    "version": 3
   },
   "file_extension": ".py",
   "mimetype": "text/x-python",
   "name": "python",
   "nbconvert_exporter": "python",
   "pygments_lexer": "ipython3",
   "version": "3.7.0"
  }
 },
 "nbformat": 4,
 "nbformat_minor": 2
}
